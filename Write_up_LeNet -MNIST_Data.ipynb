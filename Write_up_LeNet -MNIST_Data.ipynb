{
 "cells": [
  {
   "cell_type": "markdown",
   "metadata": {},
   "source": [
    "# LeNet - MNIST DATA\n",
    "![LeNet Architecture](lenet.png)\n",
    "Source: Yan LeCun"
   ]
  },
  {
   "cell_type": "markdown",
   "metadata": {},
   "source": [
    "**This exercise used the famous LeNet architecture and TensorFlow for character recognition in MNIST Dataset.**"
   ]
  },
  {
   "cell_type": "markdown",
   "metadata": {},
   "source": [
    "## Implement LeNet-5\n",
    "Implement the [LeNet-5](http://yann.lecun.com/exdb/lenet/) neural network architecture.\n",
    "\n",
    "### Input\n",
    "The LeNet architecture accepts a 32x32xC image as input, where C is the number of color channels. Since MNIST images are grayscale, C is 1 in this case.\n",
    "\n",
    "### Architecture\n",
    "**Layer 1: Convolutional.** The output shape should be 28x28x6.\n",
    "\n",
    "**Activation.** Your choice of activation function.\n",
    "\n",
    "**Pooling.** The output shape should be 14x14x6.\n",
    "\n",
    "**Layer 2: Convolutional.** The output shape should be 10x10x16.\n",
    "\n",
    "**Activation.** Your choice of activation function.\n",
    "\n",
    "**Pooling.** The output shape should be 5x5x16.\n",
    "\n",
    "**Flatten.** Flatten the output shape of the final pooling layer such that it's 1D instead of 3D. The easiest way to do is by using `tf.contrib.layers.flatten`, which is already imported for you.\n",
    "\n",
    "**Layer 3: Fully Connected.** This should have 120 outputs.\n",
    "\n",
    "**Activation.** Your choice of activation function.\n",
    "\n",
    "**Layer 4: Fully Connected.** This should have 84 outputs.\n",
    "\n",
    "**Activation.** Your choice of activation function.\n",
    "\n",
    "**Layer 5: Fully Connected (Logits).** This should have 10 outputs.\n",
    "\n",
    "### Output\n",
    "Return the result of the 2nd fully connected layer."
   ]
  },
  {
   "cell_type": "markdown",
   "metadata": {},
   "source": [
    "## Training...\n",
    "\n",
    "EPOCH 1 ...\n",
    "Validation Accuracy = 0.971\n",
    "\n",
    "EPOCH 2 ...\n",
    "Validation Accuracy = 0.981\n",
    "\n",
    "EPOCH 3 ...\n",
    "Validation Accuracy = 0.982\n",
    "\n",
    "EPOCH 4 ...\n",
    "Validation Accuracy = 0.985\n",
    "\n",
    "EPOCH 5 ...\n",
    "Validation Accuracy = 0.987\n",
    "\n",
    "EPOCH 6 ...\n",
    "Validation Accuracy = 0.984\n",
    "\n",
    "EPOCH 7 ...\n",
    "Validation Accuracy = 0.987\n",
    "\n",
    "EPOCH 8 ...\n",
    "Validation Accuracy = 0.985\n",
    "\n",
    "EPOCH 9 ...\n",
    "Validation Accuracy = 0.990\n",
    "\n",
    "EPOCH 10 ...\n",
    "Validation Accuracy = 0.990"
   ]
  },
  {
   "cell_type": "markdown",
   "metadata": {},
   "source": [
    "## Testing...\n",
    "Test Accuracy = 0.987\n"
   ]
  }
 ],
 "metadata": {
  "kernelspec": {
   "display_name": "Python 3",
   "language": "python",
   "name": "python3"
  },
  "language_info": {
   "codemirror_mode": {
    "name": "ipython",
    "version": 3
   },
   "file_extension": ".py",
   "mimetype": "text/x-python",
   "name": "python",
   "nbconvert_exporter": "python",
   "pygments_lexer": "ipython3",
   "version": "3.6.0"
  }
 },
 "nbformat": 4,
 "nbformat_minor": 2
}
